{
 "cells": [
  {
   "cell_type": "markdown",
   "metadata": {},
   "source": [
    "# **Question 1**\n",
    "\n",
    "**Part** **A:**\n",
    "\n",
    "### Ques 1 (a): Write a regex to capture of all the True Positive phrases. \n",
    " \n",
    "\n",
    "**True Positives (TP):**\n",
    "\n",
    "- i wouldn't want this to end up on your credit report\n",
    "- this will affect your credit report\n",
    "- yes it is going to affect your credit report\n",
    "\n",
    "\n",
    "### Ans: regex = (?i)\\b(?:i wouldn'?t want this to end up on|this will affect|yes it is going to affect)\\s+(?:your\\s)?credit report\\b\n",
    "\n",
    "#### Sample Code"
   ]
  },
  {
   "cell_type": "code",
   "execution_count": 1,
   "metadata": {},
   "outputs": [
    {
     "name": "stdout",
     "output_type": "stream",
     "text": [
      "Matched: i wouldn't want this to end up on your credit report\n",
      "Matched: this will affect your credit report\n",
      "Matched: yes it is going to affect your credit report\n"
     ]
    }
   ],
   "source": [
    "import re\n",
    "\n",
    "# Define the regex pattern\n",
    "regex_true = r\"(?i)\\b(?:i wouldn'?t want this to end up on|this will affect|yes it is going to affect)\\s+(?:your\\s)?credit report\\b\"\n",
    "\n",
    "# Sample phrases\n",
    "phrases = [\n",
    "    \"i wouldn't want this to end up on your credit report\",\n",
    "    \"this will affect your credit report\",\n",
    "    \"yes it is going to affect your credit report\"\n",
    "]\n",
    "\n",
    "# Check each phrase against the regex\n",
    "for phrase in phrases:\n",
    "    if re.search(regex_true, phrase):\n",
    "        print(f\"Matched: {phrase}\")\n"
   ]
  },
  {
   "cell_type": "markdown",
   "metadata": {},
   "source": [
    "### Ques 1 (b): Write a regex to capture of all the False Positive phrases. \n",
    "\n",
    "**False Positives (FP):**\n",
    "\n",
    "- no this will never affect your credit report\n",
    "- this will not end up on your credit report\n",
    "- yes it is not going to affect credit report\n",
    "\n",
    "\n",
    "### Ans: (?i)\\b(?:no this will never affect|this will not end up on|yes it is not going to affect)\\s+(?:your\\s)?credit report\\b\n",
    "\n",
    "## Sample Code"
   ]
  },
  {
   "cell_type": "code",
   "execution_count": 2,
   "metadata": {},
   "outputs": [
    {
     "name": "stdout",
     "output_type": "stream",
     "text": [
      "Matched (False Positive): no this will never affect your credit report\n",
      "Matched (False Positive): this will not end up on your credit report\n",
      "Matched (False Positive): yes it is not going to affect your credit report\n",
      "----------------------------------------------------------------------------------------------------\n"
     ]
    }
   ],
   "source": [
    "# Define the regex for False Positives\n",
    "regex_false = r\"(?i)\\b(?:no this will never affect|this will not end up on|yes it is not going to affect)\\s+(?:your\\s)?credit report\\b\"\n",
    "\n",
    "# Sample phrases\n",
    "phrases = [\n",
    "    \"no this will never affect your credit report\",\n",
    "    \"this will not end up on your credit report\",\n",
    "    \"yes it is not going to affect your credit report\",\n",
    "]\n",
    "\n",
    "# Check each phrase against the False Positive regex\n",
    "for phrase in phrases:\n",
    "    if re.search(regex_false, phrase):\n",
    "        print(f\"Matched (False Positive): {phrase}\")\n",
    "print(\"--\"*50)        \n"
   ]
  },
  {
   "cell_type": "markdown",
   "metadata": {},
   "source": [
    "**True Positives (TP):**\n",
    "\n",
    "- i wouldn't want this to end up on your credit report\n",
    "- this will affect your credit report\n",
    "- yes it is going to affect your credit report\n",
    "\n",
    "**False Positives (FP):**\n",
    "\n",
    "- no this will never affect your credit report\n",
    "- this will not end up on your credit report\n",
    "- yes it is not going to affect credit report\n",
    "\n",
    "### Ques 1 (c): Write a finally regex that capture most of the True positive and eliminates most of the negative positive. \n",
    "\n",
    "### Ans: /(?i)\\b(?:i wouldn'?t want this to end up on|this will affect|yes it is going to affect)\\s+(?:your\\s)?credit report\\b\n",
    "\n",
    "\n",
    "## Sample Code"
   ]
  },
  {
   "cell_type": "code",
   "execution_count": 3,
   "metadata": {},
   "outputs": [
    {
     "name": "stdout",
     "output_type": "stream",
     "text": [
      "True Positives (TP): 3\n",
      "False Positives (FP): 0\n",
      "False Negatives (FN): 0\n",
      "Precision: 1.0\n",
      "Recall: 1.0\n",
      "----------------------------------------------------------------------------------------------------\n"
     ]
    }
   ],
   "source": [
    "# Define True Positives (TP) and False Positives (FP)\n",
    "true_positives = [\n",
    "    \"i wouldn't want this to end up on your credit report\",\n",
    "    \"this will affect your credit report\",\n",
    "    \"yes it is going to affect your credit report\"\n",
    "]\n",
    "\n",
    "false_positives = [\n",
    "    \"no this will never affect your credit report\",\n",
    "    \"this will not end up on your credit report\",\n",
    "    \"yes it is not going to affect credit report\"\n",
    "]\n",
    "\n",
    "# Sample test cases\n",
    "test_cases = [\n",
    "    \"i wouldn't want this to end up on your credit report\",  # True Positive\n",
    "    \"this will affect your credit report\",                  # True Positive\n",
    "    \"yes it is going to affect your credit report\",         # True Positive\n",
    "    \"no this will never affect your credit report\",         # False Positive\n",
    "    \"this will not end up on your credit report\",           # False Positive\n",
    "    \"yes it is not going to affect credit report\"           # False Positive\n",
    "]\n",
    "\n",
    "# Regex for capturing True Positives\n",
    "regex = r\"(?i)\\b(?:i wouldn'?t want this to end up on|this will affect|yes it is going to affect)\\s+(?:your\\s)?credit report\\b\"\n",
    "\n",
    "# Evaluate the regex against the test cases\n",
    "tp_matches = [case for case in test_cases if re.search(regex, case) and case in true_positives]\n",
    "fp_matches = [case for case in test_cases if re.search(regex, case) and case in false_positives]\n",
    "\n",
    "# Count TP, FP\n",
    "TP = len(tp_matches)  # True Positives\n",
    "FP = len(fp_matches)  # False Positives\n",
    "FN = len([case for case in true_positives if case not in tp_matches])  # False Negatives\n",
    "\n",
    "# Precision and Recall\n",
    "precision = TP / (TP + FP) if (TP + FP) > 0 else 0\n",
    "recall = TP / (TP + FN) if (TP + FN) > 0 else 0\n",
    "\n",
    "# Output results\n",
    "print(\"True Positives (TP):\", TP)\n",
    "print(\"False Positives (FP):\", FP)\n",
    "print(\"False Negatives (FN):\", FN)\n",
    "print(\"Precision:\", precision)\n",
    "print(\"Recall:\", recall)\n",
    "print(\"--\"*50)"
   ]
  },
  {
   "cell_type": "markdown",
   "metadata": {},
   "source": [
    "### Ques 1 (d) : Report the Precision and Recall of your final regex by considering a sample set of 10-20 examples."
   ]
  },
  {
   "cell_type": "code",
   "execution_count": 4,
   "metadata": {},
   "outputs": [
    {
     "name": "stdout",
     "output_type": "stream",
     "text": [
      "True Positives (TP): 3\n",
      "False Positives (FP): 0\n",
      "False Negatives (FN): 1\n",
      "Precision: 1.0\n",
      "Recall: 0.75\n"
     ]
    }
   ],
   "source": [
    "# Define True Positives (TP) and False Positives (FP)\n",
    "true_positives = [\n",
    "    \"i wouldn't want this to end up on your credit report\",\n",
    "    \"this will affect your credit report\",\n",
    "    \"yes it is going to affect your credit report\",\n",
    "    \"this will absolutely affect your credit report\"\n",
    "]\n",
    "\n",
    "false_positives = [\n",
    "    \"no this will never affect your credit report\",\n",
    "    \"this will not end up on your credit report\",\n",
    "    \"yes it is not going to affect credit report\"\n",
    "]\n",
    "\n",
    "# Sample test cases (including both TPs and FPs)\n",
    "test_cases = [\n",
    "    \"i wouldn't want this to end up on your credit report\",   # True Positive\n",
    "    \"this will affect your credit report\",                    # True Positive\n",
    "    \"yes it is going to affect your credit report\",           # True Positive\n",
    "    \"no this will never affect your credit report\",           # False Positive\n",
    "    \"this will not end up on your credit report\",             # False Positive\n",
    "    \"yes it is not going to affect credit report\",            # False Positive\n",
    "    \"my credit report is fine\",                                # Neutral\n",
    "    \"this has no effect on my credit report\",                 # Neutral\n",
    "    \"are you sure this won't affect my credit report?\",       # Neutral\n",
    "    \"this will absolutely affect your credit report\",         # True Positive\n",
    "    \"i don't want to mess with your credit report\",           # Neutral\n",
    "    \"will my debt affect my credit report?\",                  # Neutral\n",
    "]\n",
    "\n",
    "# Regex for capturing True Positives\n",
    "regex = r\"(?i)\\b(?:i wouldn'?t want this to end up on|this will affect|yes it is going to affect)\\s+(?:your\\s)?credit report\\b\"\n",
    "\n",
    "# Evaluate the regex against the test cases\n",
    "tp_matches = [case for case in test_cases if re.search(regex, case) and case in true_positives]\n",
    "fp_matches = [case for case in test_cases if re.search(regex, case) and case in false_positives]\n",
    "fn_matches = [case for case in true_positives if case not in tp_matches]  # False Negatives\n",
    "\n",
    "# Count TP, FP, FN\n",
    "TP = len(tp_matches)  # True Positives\n",
    "FP = len(fp_matches)  # False Positives\n",
    "FN = len(fn_matches)  # False Negatives\n",
    "\n",
    "# Precision and Recall\n",
    "precision = TP / (TP + FP) if (TP + FP) > 0 else 0\n",
    "recall = TP / (TP + FN) if (TP + FN) > 0 else 0\n",
    "\n",
    "# Output results\n",
    "print(\"True Positives (TP):\", TP)\n",
    "print(\"False Positives (FP):\", FP)\n",
    "print(\"False Negatives (FN):\", FN)\n",
    "print(\"Precision:\", precision)\n",
    "print(\"Recall:\", recall)\n"
   ]
  },
  {
   "cell_type": "markdown",
   "metadata": {},
   "source": [
    "### Ques : What kind of phrases would be captured by the following Regex? List down five example phrases.\n",
    "\n",
    "regex1 = (verify|provide) (\\S+\\s){0,3}(social security|address|date of birth)\n",
    "\n",
    "### Ans : \n",
    "\n",
    "1. Please verify your address.\n",
    "2. I have verify your date of birthday. \n",
    "3. provide your email address.\n",
    "4. You need to verify your social security number.\n",
    "5. You should provide your social security.\n",
    "6. provide your social security number tomorrow. \n",
    "\n",
    "\n",
    "### Sample code"
   ]
  },
  {
   "cell_type": "code",
   "execution_count": 5,
   "metadata": {},
   "outputs": [
    {
     "name": "stdout",
     "output_type": "stream",
     "text": [
      "Please verify your address.\n",
      "Please verify your address.\n",
      "provide your email address.\n",
      "You need to verify your social security number.\n",
      "You should provide your social security\n",
      "provide your social security number tomorrow.\n"
     ]
    }
   ],
   "source": [
    "expression = r\"(verify|provide) (\\S+\\s){0,3}(social security|address|date of birth)\"\n",
    "\n",
    "examples = [\"Please verify your address.\", \n",
    "            \"Please verify your address.\",\n",
    "            \"provide your email address.\",\n",
    "            \"You need to verify your social security number.\",\n",
    "            \"You should provide your social security\",\n",
    "            'provide your social security number tomorrow.']\n",
    "\n",
    "for example in examples:\n",
    "    if re.search(expression, example):\n",
    "        print(example)"
   ]
  },
  {
   "cell_type": "markdown",
   "metadata": {},
   "source": [
    "### Ques : What kind of phrases would be captured by Regex 2? List down five example phrases.\n",
    "\n",
    "regex2 = (provide) (\\S+\\s){0,5}(credit|debit|bank|account) (\\S+\\s){0,2}(number|details)\n",
    "\n",
    "### Ans: \n",
    "\n",
    "1. provide your account number. \n",
    "2. provide other details of the credit card number. \n",
    "3. provide the debit account details. \n",
    "4. You have to provide the information of your account details. \n",
    "5. provide my father's saving account number. \n",
    "6. provide your credit card number\n",
    "7. provide my credit card details\n",
    "### Sample Code"
   ]
  },
  {
   "cell_type": "code",
   "execution_count": 6,
   "metadata": {},
   "outputs": [
    {
     "name": "stdout",
     "output_type": "stream",
     "text": [
      "provide your account number\n",
      "provide other details of the credit card number.\n",
      "provide the debit account details.\n",
      "You have to provide the information of your account details\n",
      "provide my father's saving account number\n",
      "provide my credit card details\n"
     ]
    }
   ],
   "source": [
    "expression2 = r\"(provide) (\\S+\\s){0,5}(credit|debit|bank|account) (\\S+\\s){0,2}(number|details)\"\n",
    "\n",
    "examples2 = [\"provide your account number\", \n",
    "            \"provide other details of the credit card number.\",\n",
    "            \"provide the debit account details.\",\n",
    "            \"You have to provide the information of your account details\",\n",
    "            \"provide my father's saving account number\",\n",
    "            'provide my credit card details']\n",
    "\n",
    "for example2 in examples2:\n",
    "    if re.search(expression2, example2):\n",
    "        print(example2)"
   ]
  },
  {
   "cell_type": "markdown",
   "metadata": {},
   "source": [
    "# **Question 2**\n",
    "\n",
    "### Ques 2 (a) : Write a regex to retain as many TPs as possible while eliminating as many FPs\n",
    "\n",
    "| True Positives (TP) | False Positives (FP) |\n",
    "|---|---|\n",
    "| yes it is going to affect your credit report | yes it is not going to affect credit report |\n",
    "| would hate for it to just you be put on your credit report | so you won't get credit reported or anything okay |\n",
    "| before we place all your credit report yes | important matter is that it plays nothing on your credit reports |\n",
    "| i wouldn't want this to end up on your credit report | this matter has that no effect on your credit report |\n",
    "| understand will keep off credit report and everything | important matter is that it has that not been placed on your credit reports |\n",
    "\n",
    "\n",
    "### Ans 2 (a) : /\\b(yes|before|understand|would|keep|affect|place|end up|put on).{0,20}?(credit report)\\b(?!.*\\b(not|won't|nothing|has that|has that been|effect|plays)\\b)/gm\n",
    "\n",
    "### \\b(yes|before|understand|would|keep|affect|place|end up).{0,15}?(credit report)\\b(?!.*\\b(not|won't|nothing|has that been)\\b)\n"
   ]
  },
  {
   "cell_type": "code",
   "execution_count": 7,
   "metadata": {},
   "outputs": [
    {
     "name": "stdout",
     "output_type": "stream",
     "text": [
      "\n",
      "==================== True Positives (TPs) ====================\n",
      "Sentence: \"yes it is going to affect your credit report\" -> ✅ Match\n",
      "Sentence: \"would hate for it to just you be put on your credit report\" -> ❌ No Match\n",
      "Sentence: \"before we place all your credit report yes\" -> ✅ Match\n",
      "Sentence: \"i wouldn't want this to end up on your credit report\" -> ✅ Match\n",
      "Sentence: \"understand will keep off credit report and everything\" -> ✅ Match\n",
      "\n",
      "==================== False Positives (FPs) ====================\n",
      "Sentence: \"yes it is not going to affect credit report\" -> ✅ Match\n",
      "Sentence: \"so you won't get credit reported or anything okay\" -> ❌ No Match\n",
      "Sentence: \"important matter that has nothing plays your credit reports\" -> ❌ No Match\n",
      "Sentence: \"this matter has that effect your credit report\" -> ❌ No Match\n",
      "Sentence: \"important matter that has that been placed on your credit report\" -> ✅ Match\n"
     ]
    }
   ],
   "source": [
    "# List of True Positives (TPs)\n",
    "true_positives = [\n",
    "    \"yes it is going to affect your credit report\",\n",
    "    \"would hate for it to just you be put on your credit report\",\n",
    "    \"before we place all your credit report yes\",\n",
    "    \"i wouldn't want this to end up on your credit report\",\n",
    "    \"understand will keep off credit report and everything\"\n",
    "]\n",
    "\n",
    "# List of False Positives (FPs)\n",
    "false_positives = [\n",
    "    \"yes it is not going to affect credit report\",\n",
    "    \"so you won't get credit reported or anything okay\",\n",
    "    \"important matter that has nothing plays your credit reports\",\n",
    "    \"this matter has that effect your credit report\",\n",
    "    \"important matter that has that been placed on your credit report\"\n",
    "]\n",
    "\n",
    "# Regex pattern\n",
    "pattern = r'\\b(yes|before|understand|would|keep|affect|place|end up).{0,15}?(credit report)\\b(?!.*\\b(not|won\\'t|nothing|has that been)\\b)'\n",
    "\n",
    "# Function to classify sentences as matched or not\n",
    "def classify_sentences(sentences, label):\n",
    "    print(f\"\\n{'='*20} {label} {'='*20}\")\n",
    "    for sentence in sentences:\n",
    "        match = re.search(pattern, sentence)\n",
    "        status = \"✅ Match\" if match else \"❌ No Match\"\n",
    "        print(f\"Sentence: \\\"{sentence}\\\" -> {status}\")\n",
    "\n",
    "# Classify TPs and FPs\n",
    "classify_sentences(true_positives, \"True Positives (TPs)\")\n",
    "classify_sentences(false_positives, \"False Positives (FPs)\")\n"
   ]
  },
  {
   "cell_type": "code",
   "execution_count": 8,
   "metadata": {},
   "outputs": [
    {
     "name": "stdout",
     "output_type": "stream",
     "text": [
      "\n",
      "==================== True Positives (TPs) ====================\n",
      "Sentence: \"yes it is going to affect your credit report\" -> ✅ Match\n",
      "Sentence: \"would hate for it to just you be put on your credit report\" -> ✅ Match\n",
      "Sentence: \"before we place all your credit report yes\" -> ✅ Match\n",
      "Sentence: \"i wouldn't want this to end up on your credit report\" -> ✅ Match\n",
      "Sentence: \"understand will keep off credit report and everything\" -> ✅ Match\n",
      "\n",
      "==================== False Positives (FPs) ====================\n",
      "Sentence: \"yes it is not going to affect credit report\" -> ✅ Match\n",
      "Sentence: \"so you won't get credit reported or anything okay\" -> ❌ No Match\n",
      "Sentence: \"important matter that has nothing plays your credit reports\" -> ❌ No Match\n",
      "Sentence: \"this matter has that effect your credit report\" -> ❌ No Match\n",
      "Sentence: \"important matter that has that been placed on your credit report\" -> ✅ Match\n"
     ]
    }
   ],
   "source": [
    "# List of True Positives (TPs)\n",
    "true_positives = [\n",
    "    \"yes it is going to affect your credit report\",\n",
    "    \"would hate for it to just you be put on your credit report\",\n",
    "    \"before we place all your credit report yes\",\n",
    "    \"i wouldn't want this to end up on your credit report\",\n",
    "    \"understand will keep off credit report and everything\"\n",
    "]\n",
    "\n",
    "# List of False Positives (FPs)\n",
    "false_positives = [\n",
    "    \"yes it is not going to affect credit report\",\n",
    "    \"so you won't get credit reported or anything okay\",\n",
    "    \"important matter that has nothing plays your credit reports\",\n",
    "    \"this matter has that effect your credit report\",\n",
    "    \"important matter that has that been placed on your credit report\"\n",
    "]\n",
    "\n",
    "# Regex pattern\n",
    "pattern = r\"\\b(yes|before|understand|would|keep|affect|place|end up|put on).{0,20}?(credit report)\\b(?!.*\\b(not|won't|nothing|has that|has that been|effect|plays)\\b)\"\n",
    "\n",
    "# Function to classify sentences as matched or not\n",
    "def classify_sentences(sentences, label):\n",
    "    print(f\"\\n{'='*20} {label} {'='*20}\")\n",
    "    for sentence in sentences:\n",
    "        match = re.search(pattern, sentence)\n",
    "        status = \"✅ Match\" if match else \"❌ No Match\"\n",
    "        print(f\"Sentence: \\\"{sentence}\\\" -> {status}\")\n",
    "\n",
    "# Classify TPs and FPs\n",
    "classify_sentences(true_positives, \"True Positives (TPs)\")\n",
    "classify_sentences(false_positives, \"False Positives (FPs)\")\n",
    "\n",
    "\n"
   ]
  },
  {
   "cell_type": "markdown",
   "metadata": {},
   "source": [
    "### Ques 2 (b) Write a regex to retain as many TPs as possible while eliminating as many FPs. Also, report the Precision and Recall of your final regex by considering a sample set of 10-20 examples.\n",
    "\n",
    "| True Positives (TP) | False Positives (FP) |\n",
    "|---|---|\n",
    "| before this unpaid dues affects your credit report | no this will never affect your credit report |\n",
    "| then after that it goes you know to your credit report | just remember someone wanna to take your credit report thank you |\n",
    "| someone want fetch your credit report | understand i'm in place on your credit report |\n",
    "| small amount like that to go on your credit report | and it has replaced on your credit report |"
   ]
  },
  {
   "cell_type": "code",
   "execution_count": 9,
   "metadata": {},
   "outputs": [
    {
     "name": "stdout",
     "output_type": "stream",
     "text": [
      "\n",
      "==================== True Positives (TPs) ====================\n",
      "Sentence: \"before this unpaid dues affects your credit report\" -> ✅ Match\n",
      "Sentence: \"then after that it goes you know to your credit report\" -> ❌ No Match\n",
      "Sentence: \"someone want fetch your credit report\" -> ✅ Match\n",
      "Sentence: \"small amount like that to go on your credit report\" -> ✅ Match\n",
      "\n",
      "==================== False Positives (FPs) ====================\n",
      "Sentence: \"no this will never affect your credit report\" -> ❌ No Match\n",
      "Sentence: \"just remember someone wanna to take your credit report thank you\" -> ❌ No Match\n",
      "Sentence: \"understand i'm in place on your credit report\" -> ✅ Match\n",
      "Sentence: \"and it has replaced on your credit report\" -> ❌ No Match\n"
     ]
    }
   ],
   "source": [
    "# List of True Positives (TPs)\n",
    "true_positives = [\n",
    "    \"before this unpaid dues affects your credit report\",\n",
    "    \"then after that it goes you know to your credit report\",\n",
    "    \"someone want fetch your credit report\",\n",
    "    \"small amount like that to go on your credit report\"\n",
    "]\n",
    "\n",
    "# List of False Positives (FPs)\n",
    "false_positives = [\n",
    "    \"no this will never affect your credit report\",\n",
    "    \"just remember someone wanna to take your credit report thank you\",\n",
    "    \"understand i'm in place on your credit report\",\n",
    "    \"and it has replaced on your credit report\"\n",
    "]\n",
    "\n",
    "# Regex pattern to retain TPs and eliminate FPs\n",
    "pattern = r'\\b(before|then|affects|fetch|go on|goes|place|unpaid dues).{0,15}?(credit report)\\b(?!.*\\b(never|no|wanna to take|i\\'m in place|replaced)\\b)'\n",
    "\n",
    "# Function to classify sentences as matched or not\n",
    "def classify_sentences(sentences, label):\n",
    "    print(f\"\\n{'='*20} {label} {'='*20}\")\n",
    "    for sentence in sentences:\n",
    "        match = re.search(pattern, sentence)\n",
    "        status = \"✅ Match\" if match else \"❌ No Match\"\n",
    "        print(f\"Sentence: \\\"{sentence}\\\" -> {status}\")\n",
    "\n",
    "# Classify TPs and FPs\n",
    "classify_sentences(true_positives, \"True Positives (TPs)\")\n",
    "classify_sentences(false_positives, \"False Positives (FPs)\")\n"
   ]
  },
  {
   "cell_type": "code",
   "execution_count": 10,
   "metadata": {},
   "outputs": [
    {
     "name": "stdout",
     "output_type": "stream",
     "text": [
      "\n",
      "Confusion Matrix\n",
      "True Positives (TP) : 5 (out of 6)\n",
      "False Positives (FP): 2 (out of 6)\n",
      "False Negatives (FN): 1 (out of 6)\n",
      "\n",
      "Precision: 0.71\n",
      "Recall: 0.83\n"
     ]
    }
   ],
   "source": [
    "# List of True Positives (TP)\n",
    "true_positives = [\n",
    "    \"before this unpaid dues affects your credit report\",\n",
    "    \"someone want fetch your credit report\",\n",
    "    \"small amount like that to go on your credit report\",\n",
    "    \"yes this will affect your credit report\",\n",
    "    \"important matter placed on your credit report\",\n",
    "    \"it could go on your credit report if not resolved\"\n",
    "]\n",
    "\n",
    "# List of False Positives (FP)\n",
    "false_positives = [\n",
    "    \"no this will never affect your credit report\",\n",
    "    \"understand i'm in place on your credit report\",\n",
    "    \"and it has replaced on your credit report\",\n",
    "    \"it will not affect your credit report\",\n",
    "    \"it’s not been placed on your credit report\",\n",
    "    \"just remember someone wanna to take your credit report thank you\"\n",
    "]\n",
    "\n",
    "# Regex pattern\n",
    "pattern = r'\\b(before|then|affects|fetch|go on|goes|place|unpaid dues).{0,15}?(credit report)\\b(?!.*\\b(never|no|wanna to take|i\\'m in place|replaced)\\b)'\n",
    "\n",
    "# Counters for confusion matrix components\n",
    "TP, FP, FN = 0, 0, 0\n",
    "\n",
    "# Check True Positives\n",
    "for sentence in true_positives:\n",
    "    if re.search(pattern, sentence):\n",
    "        TP += 1  # Correctly identified positive match\n",
    "    else:\n",
    "        FN += 1  # False Negative — should have matched but didn't\n",
    "\n",
    "# Check False Positives\n",
    "for sentence in false_positives:\n",
    "    if re.search(pattern, sentence):\n",
    "        FP += 1  # Incorrectly identified as positive (False Positive)\n",
    "\n",
    "# Calculate Precision and Recall\n",
    "precision = TP / (TP + FP) \n",
    "recall = TP / (TP + FN)\n",
    "\n",
    "# Print confusion matrix and performance metrics\n",
    "print(\"\\nConfusion Matrix\")\n",
    "print(f\"True Positives (TP) : {TP} (out of {len(true_positives)})\")\n",
    "print(f\"False Positives (FP): {FP} (out of {len(false_positives)})\")\n",
    "print(f\"False Negatives (FN): {FN} (out of {len(true_positives)})\\n\")\n",
    "\n",
    "print(f\"Precision: {precision:.2f}\")\n",
    "print(f\"Recall: {recall:.2f}\")\n"
   ]
  },
  {
   "cell_type": "code",
   "execution_count": 11,
   "metadata": {},
   "outputs": [
    {
     "name": "stdout",
     "output_type": "stream",
     "text": [
      "understand i'm in place on your credit report\n",
      "it’s not been placed on your credit report\n"
     ]
    }
   ],
   "source": [
    "for sentence in false_positives:\n",
    "    if re.search(pattern, sentence):\n",
    "        print(sentence)"
   ]
  },
  {
   "cell_type": "code",
   "execution_count": 12,
   "metadata": {},
   "outputs": [
    {
     "name": "stdout",
     "output_type": "stream",
     "text": [
      "yes this will affect your credit report\n"
     ]
    }
   ],
   "source": [
    "for sentence in true_positives:\n",
    "    if re.search(pattern, sentence):\n",
    "        TP += 1 \n",
    "    else:\n",
    "        print(sentence)"
   ]
  },
  {
   "cell_type": "markdown",
   "metadata": {},
   "source": [
    "### Question 3 (Bonus)\n",
    "\n",
    "- Deploy a LLM based tool which accepts a simple input and generates a meaningful output.\n",
    "\n",
    "### Link : \n",
    "\n",
    "- https://huggingface.co/spaces/mehtasambhav/flan-t5-qa\n",
    "\n",
    "- https://github.com/sambhavm22/LLM-Ques.-and-Ans.-Bot\n",
    "\n"
   ]
  }
 ],
 "metadata": {
  "kernelspec": {
   "display_name": "Python 3",
   "language": "python",
   "name": "python3"
  },
  "language_info": {
   "codemirror_mode": {
    "name": "ipython",
    "version": 3
   },
   "file_extension": ".py",
   "mimetype": "text/x-python",
   "name": "python",
   "nbconvert_exporter": "python",
   "pygments_lexer": "ipython3",
   "version": "3.9.6"
  },
  "orig_nbformat": 4
 },
 "nbformat": 4,
 "nbformat_minor": 2
}
